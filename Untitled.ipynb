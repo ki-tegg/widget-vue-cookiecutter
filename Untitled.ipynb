{
 "cells": [
  {
   "cell_type": "code",
   "execution_count": 31,
   "id": "96d48e21-8d38-4392-ab0f-f6c9fbf91144",
   "metadata": {},
   "outputs": [],
   "source": [
    "import vuewidget as widget"
   ]
  },
  {
   "cell_type": "code",
   "execution_count": 34,
   "id": "57b8b1df-5930-4340-8191-39e795edccad",
   "metadata": {},
   "outputs": [],
   "source": [
    "modelValue = 'dsasa'"
   ]
  },
  {
   "cell_type": "code",
   "execution_count": 35,
   "id": "a038ce92-c6f5-4ac7-8903-1d85a0231424",
   "metadata": {},
   "outputs": [
    {
     "data": {
      "application/vnd.jupyter.widget-view+json": {
       "model_id": "a8ac364ee3d340a686a436aea9491b3b",
       "version_major": 2,
       "version_minor": 0
      },
      "text/plain": [
       "ExampleWidget(value='dsasa')"
      ]
     },
     "metadata": {},
     "output_type": "display_data"
    }
   ],
   "source": [
    "example = widget.ExampleWidget(value=modelValue)\n",
    "display(example)"
   ]
  },
  {
   "cell_type": "code",
   "execution_count": 38,
   "id": "c643786d-e599-42c6-ac40-35c5a39bbdd2",
   "metadata": {},
   "outputs": [
    {
     "data": {
      "text/plain": [
       "'hello'"
      ]
     },
     "execution_count": 38,
     "metadata": {},
     "output_type": "execute_result"
    }
   ],
   "source": [
    "example.value"
   ]
  },
  {
   "cell_type": "code",
   "execution_count": null,
   "id": "f45eda52-48df-4f2a-980a-d4b839335683",
   "metadata": {},
   "outputs": [],
   "source": []
  }
 ],
 "metadata": {
  "kernelspec": {
   "display_name": "Python 3 (ipykernel)",
   "language": "python",
   "name": "python3"
  },
  "language_info": {
   "codemirror_mode": {
    "name": "ipython",
    "version": 3
   },
   "file_extension": ".py",
   "mimetype": "text/x-python",
   "name": "python",
   "nbconvert_exporter": "python",
   "pygments_lexer": "ipython3",
   "version": "3.8.13"
  }
 },
 "nbformat": 4,
 "nbformat_minor": 5
}
