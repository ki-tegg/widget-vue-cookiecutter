{
 "cells": [
  {
   "cell_type": "code",
   "execution_count": 1,
   "id": "96d48e21-8d38-4392-ab0f-f6c9fbf91144",
   "metadata": {
    "pycharm": {
     "name": "#%%\n"
    }
   },
   "outputs": [
    {
     "ename": "ModuleNotFoundError",
     "evalue": "No module named 'ipywidgets'",
     "output_type": "error",
     "traceback": [
      "\u001B[0;31m---------------------------------------------------------------------------\u001B[0m",
      "\u001B[0;31mModuleNotFoundError\u001B[0m                       Traceback (most recent call last)",
      "Input \u001B[0;32mIn [1]\u001B[0m, in \u001B[0;36m<cell line: 1>\u001B[0;34m()\u001B[0m\n\u001B[0;32m----> 1\u001B[0m \u001B[38;5;28;01mimport\u001B[39;00m \u001B[38;5;21;01mvuewidget\u001B[39;00m \u001B[38;5;28;01mas\u001B[39;00m \u001B[38;5;21;01mwidget\u001B[39;00m\n",
      "File \u001B[0;32m~/Documents/Business/2022-2020_HS-Mainz/kitegg/juypter/vuewidget/vuewidget/__init__.py:7\u001B[0m, in \u001B[0;36m<module>\u001B[0;34m\u001B[0m\n\u001B[1;32m      1\u001B[0m \u001B[38;5;66;03m#!/usr/bin/env python\u001B[39;00m\n\u001B[1;32m      2\u001B[0m \u001B[38;5;66;03m# coding: utf-8\u001B[39;00m\n\u001B[1;32m      3\u001B[0m \n\u001B[1;32m      4\u001B[0m \u001B[38;5;66;03m# Copyright (c) Jean Boehm.\u001B[39;00m\n\u001B[1;32m      5\u001B[0m \u001B[38;5;66;03m# Distributed under the terms of the Modified BSD License.\u001B[39;00m\n\u001B[0;32m----> 7\u001B[0m \u001B[38;5;28;01mfrom\u001B[39;00m \u001B[38;5;21;01m.\u001B[39;00m\u001B[38;5;21;01mexample\u001B[39;00m \u001B[38;5;28;01mimport\u001B[39;00m ExampleWidget\n\u001B[1;32m      8\u001B[0m \u001B[38;5;28;01mfrom\u001B[39;00m \u001B[38;5;21;01m.\u001B[39;00m\u001B[38;5;21;01m_version\u001B[39;00m \u001B[38;5;28;01mimport\u001B[39;00m __version__, version_info\n\u001B[1;32m     10\u001B[0m \u001B[38;5;28;01mdef\u001B[39;00m \u001B[38;5;21m_jupyter_labextension_paths\u001B[39m():\n",
      "File \u001B[0;32m~/Documents/Business/2022-2020_HS-Mainz/kitegg/juypter/vuewidget/vuewidget/example.py:11\u001B[0m, in \u001B[0;36m<module>\u001B[0;34m\u001B[0m\n\u001B[1;32m      1\u001B[0m \u001B[38;5;66;03m#!/usr/bin/env python\u001B[39;00m\n\u001B[1;32m      2\u001B[0m \u001B[38;5;66;03m# coding: utf-8\u001B[39;00m\n\u001B[1;32m      3\u001B[0m \n\u001B[1;32m      4\u001B[0m \u001B[38;5;66;03m# Copyright (c) Jean Boehm.\u001B[39;00m\n\u001B[1;32m      5\u001B[0m \u001B[38;5;66;03m# Distributed under the terms of the Modified BSD License.\u001B[39;00m\n\u001B[1;32m      7\u001B[0m \u001B[38;5;124;03m\"\"\"\u001B[39;00m\n\u001B[1;32m      8\u001B[0m \u001B[38;5;124;03mTODO: Add module docstring\u001B[39;00m\n\u001B[1;32m      9\u001B[0m \u001B[38;5;124;03m\"\"\"\u001B[39;00m\n\u001B[0;32m---> 11\u001B[0m \u001B[38;5;28;01mfrom\u001B[39;00m \u001B[38;5;21;01mipywidgets\u001B[39;00m \u001B[38;5;28;01mimport\u001B[39;00m DOMWidget\n\u001B[1;32m     12\u001B[0m \u001B[38;5;28;01mfrom\u001B[39;00m \u001B[38;5;21;01mtraitlets\u001B[39;00m \u001B[38;5;28;01mimport\u001B[39;00m Unicode\n\u001B[1;32m     13\u001B[0m \u001B[38;5;28;01mfrom\u001B[39;00m \u001B[38;5;21;01m.\u001B[39;00m\u001B[38;5;21;01m_frontend\u001B[39;00m \u001B[38;5;28;01mimport\u001B[39;00m module_name, module_version\n",
      "\u001B[0;31mModuleNotFoundError\u001B[0m: No module named 'ipywidgets'"
     ]
    }
   ],
   "source": [
    "import vuewidget as widget"
   ]
  },
  {
   "cell_type": "code",
   "execution_count": null,
   "id": "57b8b1df-5930-4340-8191-39e795edccad",
   "metadata": {
    "pycharm": {
     "name": "#%%\n"
    }
   },
   "outputs": [],
   "source": [
    "modelValue = 'dsasa'"
   ]
  },
  {
   "cell_type": "code",
   "execution_count": 2,
   "id": "a038ce92-c6f5-4ac7-8903-1d85a0231424",
   "metadata": {
    "pycharm": {
     "name": "#%%\n"
    }
   },
   "outputs": [
    {
     "ename": "NameError",
     "evalue": "name 'widget' is not defined",
     "output_type": "error",
     "traceback": [
      "\u001B[0;31m---------------------------------------------------------------------------\u001B[0m",
      "\u001B[0;31mNameError\u001B[0m                                 Traceback (most recent call last)",
      "Input \u001B[0;32mIn [2]\u001B[0m, in \u001B[0;36m<cell line: 1>\u001B[0;34m()\u001B[0m\n\u001B[0;32m----> 1\u001B[0m example \u001B[38;5;241m=\u001B[39m \u001B[43mwidget\u001B[49m\u001B[38;5;241m.\u001B[39mExampleWidget()\n\u001B[1;32m      2\u001B[0m display(example)\n",
      "\u001B[0;31mNameError\u001B[0m: name 'widget' is not defined"
     ]
    }
   ],
   "source": [
    "example = widget.ExampleWidget()\n",
    "display(example)"
   ]
  },
  {
   "cell_type": "code",
   "execution_count": 22,
   "id": "c643786d-e599-42c6-ac40-35c5a39bbdd2",
   "metadata": {
    "pycharm": {
     "name": "#%%\n"
    },
    "tags": []
   },
   "outputs": [
    {
     "data": {
      "text/plain": [
       "'Hello World'"
      ]
     },
     "execution_count": 22,
     "metadata": {},
     "output_type": "execute_result"
    }
   ],
   "source": [
    "example.value"
   ]
  },
  {
   "cell_type": "code",
   "execution_count": null,
   "id": "f45eda52-48df-4f2a-980a-d4b839335683",
   "metadata": {
    "pycharm": {
     "name": "#%%\n"
    }
   },
   "outputs": [],
   "source": []
  }
 ],
 "metadata": {
  "kernelspec": {
   "display_name": "Python 3 (ipykernel)",
   "language": "python",
   "name": "python3"
  },
  "language_info": {
   "codemirror_mode": {
    "name": "ipython",
    "version": 3
   },
   "file_extension": ".py",
   "mimetype": "text/x-python",
   "name": "python",
   "nbconvert_exporter": "python",
   "pygments_lexer": "ipython3",
   "version": "3.8.13"
  }
 },
 "nbformat": 4,
 "nbformat_minor": 5
}