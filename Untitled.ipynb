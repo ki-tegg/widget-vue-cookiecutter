{
 "cells": [
  {
   "cell_type": "code",
   "execution_count": 24,
   "id": "96d48e21-8d38-4392-ab0f-f6c9fbf91144",
   "metadata": {
    "pycharm": {
     "name": "#%%\n"
    }
   },
   "outputs": [],
   "source": [
    "import vuewidget as widget"
   ]
  },
  {
   "cell_type": "code",
   "execution_count": 28,
   "id": "57b8b1df-5930-4340-8191-39e795edccad",
   "metadata": {
    "pycharm": {
     "name": "#%%\n"
    }
   },
   "outputs": [],
   "source": [
    "modelValue = 'dsasa'"
   ]
  },
  {
   "cell_type": "code",
   "execution_count": 29,
   "id": "a038ce92-c6f5-4ac7-8903-1d85a0231424",
   "metadata": {
    "pycharm": {
     "name": "#%%\n"
    }
   },
   "outputs": [
    {
     "data": {
      "application/vnd.jupyter.widget-view+json": {
       "model_id": "ca1d8056035b41c7897a0a9f8a932927",
       "version_major": 2,
       "version_minor": 0
      },
      "text/plain": [
       "ExampleWidget()"
      ]
     },
     "metadata": {},
     "output_type": "display_data"
    }
   ],
   "source": [
    "example = widget.ExampleWidget()\n",
    "display(example)"
   ]
  },
  {
   "cell_type": "code",
   "execution_count": 27,
   "id": "c643786d-e599-42c6-ac40-35c5a39bbdd2",
   "metadata": {
    "pycharm": {
     "name": "#%%\n"
    },
    "tags": []
   },
   "outputs": [
    {
     "data": {
      "text/plain": [
       "'test '"
      ]
     },
     "execution_count": 27,
     "metadata": {},
     "output_type": "execute_result"
    }
   ],
   "source": [
    "example.value"
   ]
  },
  {
   "cell_type": "code",
   "execution_count": null,
   "id": "f45eda52-48df-4f2a-980a-d4b839335683",
   "metadata": {
    "pycharm": {
     "name": "#%%\n"
    }
   },
   "outputs": [],
   "source": []
  },
  {
   "cell_type": "code",
   "execution_count": null,
   "id": "9d249fbc",
   "metadata": {
    "collapsed": false,
    "jupyter": {
     "outputs_hidden": false
    },
    "pycharm": {
     "name": "#%%\n"
    }
   },
   "outputs": [],
   "source": []
  },
  {
   "cell_type": "code",
   "execution_count": null,
   "id": "ba61e3da-48b0-4ad1-93e5-ff33c38632a0",
   "metadata": {},
   "outputs": [],
   "source": []
  }
 ],
 "metadata": {
  "kernelspec": {
   "display_name": "Python 3 (ipykernel)",
   "language": "python",
   "name": "python3"
  },
  "language_info": {
   "codemirror_mode": {
    "name": "ipython",
    "version": 3
   },
   "file_extension": ".py",
   "mimetype": "text/x-python",
   "name": "python",
   "nbconvert_exporter": "python",
   "pygments_lexer": "ipython3",
   "version": "3.8.13"
  }
 },
 "nbformat": 4,
 "nbformat_minor": 5
}
