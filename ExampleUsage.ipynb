{
 "cells": [
  {
   "cell_type": "code",
   "execution_count": 13,
   "id": "96d48e21-8d38-4392-ab0f-f6c9fbf91144",
   "metadata": {
    "pycharm": {
     "name": "#%%\n"
    }
   },
   "outputs": [],
   "source": [
    "import vuewidget as widget"
   ]
  },
  {
   "cell_type": "code",
   "execution_count": 14,
   "id": "57b8b1df-5930-4340-8191-39e795edccad",
   "metadata": {
    "pycharm": {
     "name": "#%%\n"
    }
   },
   "outputs": [],
   "source": [
    "modelValue = 'dsasa'"
   ]
  },
  {
   "cell_type": "code",
   "execution_count": 15,
   "id": "a038ce92-c6f5-4ac7-8903-1d85a0231424",
   "metadata": {
    "pycharm": {
     "name": "#%%\n"
    }
   },
   "outputs": [
    {
     "data": {
      "application/vnd.jupyter.widget-view+json": {
       "model_id": "497a18b31db64f17bccb5ff48a2163cc",
       "version_major": 2,
       "version_minor": 0
      },
      "text/plain": [
       "ExampleWidget()"
      ]
     },
     "metadata": {},
     "output_type": "display_data"
    }
   ],
   "source": [
    "example = widget.ExampleWidget()\n",
    "display(example)"
   ]
  },
  {
   "cell_type": "code",
   "execution_count": 16,
   "id": "c643786d-e599-42c6-ac40-35c5a39bbdd2",
   "metadata": {
    "pycharm": {
     "name": "#%%\n"
    },
    "tags": []
   },
   "outputs": [
    {
     "data": {
      "text/plain": [
       "'Hello World'"
      ]
     },
     "execution_count": 16,
     "metadata": {},
     "output_type": "execute_result"
    }
   ],
   "source": [
    "example.value"
   ]
  },
  {
   "cell_type": "code",
   "execution_count": null,
   "id": "57df4e1b-b1e4-40ed-b567-0ec56af10669",
   "metadata": {},
   "outputs": [],
   "source": []
  }
 ],
 "metadata": {
  "kernelspec": {
   "display_name": "Python 3",
   "language": "python",
   "name": "python3"
  },
  "language_info": {
   "codemirror_mode": {
    "name": "ipython",
    "version": 3
   },
   "file_extension": ".py",
   "mimetype": "text/x-python",
   "name": "python",
   "nbconvert_exporter": "python",
   "pygments_lexer": "ipython3",
   "version": "3.8.13"
  }
 },
 "nbformat": 4,
 "nbformat_minor": 5
}
